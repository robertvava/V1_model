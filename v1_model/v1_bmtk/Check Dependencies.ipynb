{
 "cells": [
  {
   "cell_type": "markdown",
   "metadata": {},
   "source": [
    "# Check package installations"
   ]
  },
  {
   "cell_type": "code",
   "execution_count": 6,
   "metadata": {
    "scrolled": true
   },
   "outputs": [
    {
     "name": "stdout",
     "output_type": "stream",
     "text": [
      "['antlr4-python3-runtime', 'asn1crypto', 'astropy', 'attrs', 'backcall', 'bleach', 'bmtk', 'Brian2', 'cached-property', 'certifi', 'chardet', 'command-not-found', 'ConnPlotter', 'cryptography', 'cupshelpers', 'cycler', 'Cython', 'decorator', 'defer', 'defusedxml', 'distro-info', 'entrypoints', 'future', 'h5py', 'httplib2', 'idna', 'importlib-metadata', 'ipykernel', 'ipython', 'ipython-genutils', 'jedi', 'Jinja2', 'jsonschema', 'jupyter-client', 'jupyter-core', 'keyring', 'keyrings.alt', 'language-selector', 'launchpadlib', 'lazr.restfulclient', 'lazr.uri', 'lazyarray', 'LFPy', 'lightdm-gtk-greeter-settings', 'MarkupSafe', 'matplotlib', 'mistune', 'more-itertools', 'mpi4py', 'mpmath', 'nbconvert', 'nbformat', 'neo', 'NESTML', 'netifaces', 'NEURON', 'nose', 'notebook', 'nrn', 'numpy', 'oauth', 'odetoolbox', 'olefile', 'packaging', 'pandas', 'pandocfilters', 'parso', 'path.py', 'patsy', 'pexpect', 'pickleshare', 'Pillow', 'pluggy', 'prometheus-client', 'prompt-toolkit', 'ptyprocess', 'py', 'pycairo', 'pycodestyle', 'pycrypto', 'pycups', 'Pygments', 'pygobject', 'PyNEST', 'PyNN', 'pyparsing', 'pyrsistent', 'pytest', 'python-apt', 'python-dateutil', 'python-debian', 'pytz', 'pyxattr', 'PyYAML', 'pyzmq', 'quantities', 'reportlab', 'requests', 'requests-unixsocket', 'scipy', 'SecretStorage', 'Send2Trash', 'simplegeneric', 'simplejson', 'six', 'ssh-import-id', 'statsmodels', 'sympy', 'systemd-python', 'terminado', 'testpath', 'Topology', 'tornado', 'traitlets', 'typing', 'ubuntu-drivers-common', 'ufw', 'unattended-upgrades', 'urllib3', 'usb-creator', 'wadllib', 'wcwidth', 'webencodings', 'xkit', 'youtube-dl', 'zipp', 'zope.interface']\n"
     ]
    }
   ],
   "source": [
    "import subprocess\n",
    "import sys\n",
    "\n",
    "reqs = subprocess.check_output([sys.executable, '-m', 'pip', 'freeze'])\n",
    "installed_packages = [r.decode().split('==')[0] for r in reqs.split()]\n",
    "\n",
    "print(installed_packages)"
   ]
  },
  {
   "cell_type": "code",
   "execution_count": null,
   "metadata": {},
   "outputs": [],
   "source": []
  }
 ],
 "metadata": {
  "kernelspec": {
   "display_name": "Python 3",
   "language": "python",
   "name": "python3"
  },
  "language_info": {
   "codemirror_mode": {
    "name": "ipython",
    "version": 3
   },
   "file_extension": ".py",
   "mimetype": "text/x-python",
   "name": "python",
   "nbconvert_exporter": "python",
   "pygments_lexer": "ipython3",
   "version": "3.6.9"
  }
 },
 "nbformat": 4,
 "nbformat_minor": 4
}
