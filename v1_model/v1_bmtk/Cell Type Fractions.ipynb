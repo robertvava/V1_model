{
 "cells": [
  {
   "cell_type": "markdown",
   "metadata": {},
   "source": [
    "# Calculate cell-type fractions\n",
    "Workbook for neural cell type calculations, taken from Billeh et al., Neuron, 2020"
   ]
  },
  {
   "cell_type": "code",
   "execution_count": 1,
   "metadata": {},
   "outputs": [
    {
     "name": "stdout",
     "output_type": "stream",
     "text": [
      "Exc Types:  8517\n",
      "PV Types:  800\n",
      "SST Types:  459\n",
      "VIP Types:  224\n"
     ]
    }
   ],
   "source": [
    "# L4 Model Cell Numbers\n",
    "# Calculate real fraction of each cell type, then multiply by desired number of cells\n",
    "\n",
    "model_cells = 10000\n",
    "\n",
    "# Cell numbers from Neuron publication\n",
    "Exc = 10254\n",
    "PV = 963\n",
    "SST = 553\n",
    "VIP = 270\n",
    "Total = Exc + PV + SST + VIP\n",
    "\n",
    "# Final number for each cell type, based on fractional amount\n",
    "fExc = round(model_cells * (Exc / Total))\n",
    "fPV = round(model_cells * (PV / Total))\n",
    "fSST = round(model_cells * (SST / Total))\n",
    "fVIP = round(model_cells * (VIP / Total))\n",
    "\n",
    "print(\"Exc Types: \", fExc)\n",
    "print(\"PV Types: \", fPV)\n",
    "print(\"SST Types: \", fSST)\n",
    "print(\"VIP Types: \", fVIP)"
   ]
  },
  {
   "cell_type": "markdown",
   "metadata": {},
   "source": [
    "## Connectivity\n",
    "Cell type connections from http://portal.brain-map.org/explore/connectivity/synaptic-physiology/interact"
   ]
  },
  {
   "cell_type": "code",
   "execution_count": 2,
   "metadata": {},
   "outputs": [],
   "source": [
    "# L4 Connectivity Numbers\n",
    "\n",
    "# Exc Presynaptic \n",
    "ExcExc = 49/475\n",
    "ExcPV = 5/44\n",
    "ExcSST = 1/28\n",
    "ExcVIP = 1/26\n",
    "\n",
    "# PV Presynaptic\n",
    "PVExc = 9/45\n",
    "PVPV = 51/108\n",
    "PVSST = 0/7\n",
    "PVVIP = 4/45\n",
    "\n",
    "# SST Presynaptic\n",
    "SSTExc = 6/27\n",
    "SSTPV = 0/7\n",
    "SSTSST = 0/64\n",
    "SSTVIP = 8/28\n",
    "\n",
    "# VIP Presynaptic\n",
    "VIPExc = 0/27\n",
    "VIPPV = 1/45\n",
    "VIPSST = 5/29\n",
    "VIPVIP = 3/131\n"
   ]
  },
  {
   "cell_type": "code",
   "execution_count": 31,
   "metadata": {},
   "outputs": [
    {
     "name": "stdout",
     "output_type": "stream",
     "text": [
      "0.0\n",
      "0.022222222222222223\n",
      "0.1724137931034483\n",
      "0.022900763358778626\n"
     ]
    }
   ],
   "source": [
    "print(VIPExc)\n",
    "print(VIPPV)\n",
    "print(VIPSST)\n",
    "print(VIPVIP)"
   ]
  },
  {
   "cell_type": "code",
   "execution_count": 16,
   "metadata": {},
   "outputs": [
    {
     "name": "stdout",
     "output_type": "stream",
     "text": [
      "1\n"
     ]
    }
   ],
   "source": [
    "# Python coding practice\n",
    "import numpy as np\n",
    "print(int(np.random.rand(1) < .5))"
   ]
  },
  {
   "cell_type": "code",
   "execution_count": 24,
   "metadata": {},
   "outputs": [
    {
     "name": "stdout",
     "output_type": "stream",
     "text": [
      "[False  True False False  True]\n",
      "[0 1 2 3 4]\n",
      "[1 4]\n"
     ]
    }
   ],
   "source": [
    "# Python coding practice\n",
    "x = np.random.rand(5) < .5\n",
    "y = np.arange(5)\n",
    "print(x)\n",
    "print(y)\n",
    "print(y[x])\n"
   ]
  },
  {
   "cell_type": "code",
   "execution_count": null,
   "metadata": {},
   "outputs": [],
   "source": []
  }
 ],
 "metadata": {
  "kernelspec": {
   "display_name": "Python 3",
   "language": "python",
   "name": "python3"
  },
  "language_info": {
   "codemirror_mode": {
    "name": "ipython",
    "version": 3
   },
   "file_extension": ".py",
   "mimetype": "text/x-python",
   "name": "python",
   "nbconvert_exporter": "python",
   "pygments_lexer": "ipython3",
   "version": "3.6.9"
  }
 },
 "nbformat": 4,
 "nbformat_minor": 4
}
