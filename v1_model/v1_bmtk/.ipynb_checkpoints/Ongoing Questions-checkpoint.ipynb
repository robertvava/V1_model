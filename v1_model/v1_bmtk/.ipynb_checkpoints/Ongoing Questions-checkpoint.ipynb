{
 "cells": [
  {
   "cell_type": "markdown",
   "metadata": {},
   "source": [
    "# Notebook\n",
    "Jotting down questions / problems encountered"
   ]
  },
  {
   "cell_type": "code",
   "execution_count": null,
   "metadata": {},
   "outputs": [],
   "source": []
  },
  {
   "cell_type": "markdown",
   "metadata": {},
   "source": [
    "## Questions\n",
    "\n",
    "#### Discussion\n",
    "Unsatisfying cell type dynamics - how to adjust weights appropriately? See HW Q1\\\n",
    "Retinotopic distance rule - overlapped LGN with V1, calculated distance, made probability of synapse function of that distance. Is this appropriate for every cell type (including Inh)?\\\n",
    "\n",
    "#### Homework questions\n",
    "Wasn't sure which dynamics params to use - might have contributed to runtime?\n",
    "Unclear on conversion from connection probability to synapse number / synaptic strength to weight\\\n",
    "Targeting perturbation to \"VIP\" neurons in simulation_config.json throws an error (other pop_names are fine)\\\n",
    "Tools for checking firing rate of population activity?\n",
    "\n",
    "\n",
    "#### Tutorial notes\n",
    "Sim 5 Tutorial - default setting is to run simulation_config.json, believe should be config.json\\\n",
    "Sim 5 Tutorial - LGN node connects to \"PV1\", should likely be \"PV\"\n"
   ]
  },
  {
   "cell_type": "code",
   "execution_count": null,
   "metadata": {},
   "outputs": [],
   "source": []
  }
 ],
 "metadata": {
  "kernelspec": {
   "display_name": "Python 3",
   "language": "python",
   "name": "python3"
  },
  "language_info": {
   "codemirror_mode": {
    "name": "ipython",
    "version": 3
   },
   "file_extension": ".py",
   "mimetype": "text/x-python",
   "name": "python",
   "nbconvert_exporter": "python",
   "pygments_lexer": "ipython3",
   "version": "3.6.9"
  }
 },
 "nbformat": 4,
 "nbformat_minor": 4
}
