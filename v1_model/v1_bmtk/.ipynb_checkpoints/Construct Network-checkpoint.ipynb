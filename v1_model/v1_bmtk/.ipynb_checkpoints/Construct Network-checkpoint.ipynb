{
 "cells": [
  {
   "cell_type": "markdown",
   "metadata": {},
   "source": [
    "## Build Network\n",
    "Notebook to establish networks for evaluation with \"Run Network.ipynb\". Constructs a model \"V1\" of L4 Exc, PV, SST, And VIP neurons using simple LIF dynamics. Also creates a virtual network \"LGN\" to provide input to this internal network. \n",
    "\n",
    "### Create network nodes\n",
    "Establish nodes for each cell type, arranged in 2D space (not worrying about spatial overlap of cell types). Numbers for each cell type are calculated within \"Cell Type Fractions.ipynb\""
   ]
  },
  {
   "cell_type": "code",
   "execution_count": 1,
   "metadata": {},
   "outputs": [
    {
     "name": "stdout",
     "output_type": "stream",
     "text": [
      "Nodes established.\n",
      "2022-01-20 08:40:32\n"
     ]
    }
   ],
   "source": [
    "from bmtk.builder.networks import NetworkBuilder\n",
    "from bmtk.builder.auxi.node_params import positions_columinar\n",
    "from bmtk.builder.auxi.node_params import positions_cuboid\n",
    "from time import gmtime, strftime\n",
    "\n",
    "# Cell counts\n",
    "nExc = 8517\n",
    "nPV = 800\n",
    "nSST = 459\n",
    "nVIP = 224\n",
    "\n",
    "# Create network \"V1\" which contains nodes for excitatory, PV, SST, and VIP cells arranged in 2D space\n",
    "net = NetworkBuilder(\"V1\")\n",
    "net.add_nodes(N=nExc, \n",
    "              positions=positions_cuboid(N=nExc,center=[0, 0, 0], height = 0, xside_length=100, \\\n",
    "                                         yside_length=100, min_dist=1),\n",
    "              pop_name='Exc', location='VisL4', ei='e',  # optional parameters\n",
    "              model_type='point_process',  # Tells the simulator to use point-based neurons\n",
    "              model_template='nest:iaf_psc_alpha',  # tells the simulator to use NEST iaf_psc_alpha models\n",
    "              dynamics_params='IntFire1_exc_point.json'  # File containing iaf_psc_alpha mdoel parameters\n",
    "             )\n",
    "\n",
    "net.add_nodes(N=nPV, pop_name='PV', location='VisL4', ei='i',\n",
    "              positions=positions_cuboid(N=nPV,center=[0, 0, 0], height = 0, xside_length=100, \\\n",
    "                                         yside_length=100, min_dist=1),\n",
    "              model_type='point_process',\n",
    "              model_template='nest:iaf_psc_alpha',\n",
    "              dynamics_params='IntFire1_inh_point.json')\n",
    "\n",
    "net.add_nodes(N=nSST, pop_name='SST', location='VisL4', ei='i',\n",
    "              positions=positions_cuboid(N=nSST,center=[0, 0, 0], height = 0, xside_length=100, \\\n",
    "                                         yside_length=100, min_dist=1),\n",
    "              model_type='point_process',\n",
    "              model_template='nest:iaf_psc_alpha',\n",
    "              dynamics_params='IntFire1_inh_point.json')\n",
    "\n",
    "net.add_nodes(N=nVIP, pop_name='VIP', location='VisL4', ei='i',\n",
    "              positions=positions_cuboid(N=nVIP,center=[0, 0, 0], height = 0, xside_length=100, \\\n",
    "                                         yside_length=100, min_dist=1),\n",
    "              model_type='point_process',\n",
    "              model_template='nest:iaf_psc_alpha',\n",
    "              dynamics_params='IntFire1_inh_point.json')\n",
    "\n",
    "print('Nodes established.')\n",
    "print(strftime(\"%Y-%m-%d %H:%M:%S\", gmtime())) #timestamp"
   ]
  },
  {
   "cell_type": "markdown",
   "metadata": {},
   "source": [
    "### Create network edges\n",
    "Establish synaptic connections between nodes of network, using a connection rule that randomly assigns one or zero synapses based on the probability of given cell-type pairwise probability. Pairwise probability come from Allen connectivity datasets, and are located in \"Cell Type Fractions.ipynb\""
   ]
  },
  {
   "cell_type": "code",
   "execution_count": 2,
   "metadata": {},
   "outputs": [
    {
     "name": "stdout",
     "output_type": "stream",
     "text": [
      "Edges established.\n",
      "2022-01-20 08:40:34\n"
     ]
    }
   ],
   "source": [
    "import numpy as np\n",
    "\n",
    "# Function to assign a synapse for given synaptic probabilities\n",
    "def calc_synapses(sources, target, probability):\n",
    "    syns = int(np.random.rand(1) < probability)\n",
    "    return syns\n",
    "\n",
    "## E-to-E connections\n",
    "net.add_edges(source={'pop_name': 'Exc'}, target={'pop_name': 'Exc'},\n",
    "              connection_rule=calc_synapses,\n",
    "              connection_params={'probability': .103},\n",
    "              syn_weight=3.0,\n",
    "              delay=2.0,\n",
    "              dynamics_params='ExcToExc.json',\n",
    "              model_template='static_synapse')\n",
    "\n",
    "### Generating I-to-I connections\n",
    "\n",
    "## PV I-to-I\n",
    "net.add_edges(source={'pop_name': 'PV'}, target={'pop_name': 'PV'},\n",
    "              connection_rule=calc_synapses,\n",
    "              connection_params={'probability': .472},\n",
    "              syn_weight=-3.0,\n",
    "              delay=2.0,\n",
    "              dynamics_params='InhToInh.json',\n",
    "              model_template='static_synapse')\n",
    "\n",
    "net.add_edges(source={'pop_name': 'PV'}, target={'pop_name': 'SST'},\n",
    "              connection_rule=calc_synapses,\n",
    "              connection_params={'probability': .0},\n",
    "              syn_weight=-3.0,\n",
    "              delay=2.0,\n",
    "              dynamics_params='InhToInh.json',\n",
    "              model_template='static_synapse')\n",
    "\n",
    "net.add_edges(source={'pop_name': 'PV'}, target={'pop_name': 'VIP'},\n",
    "              connection_rule=calc_synapses,\n",
    "              connection_params={'probability': .088},\n",
    "              syn_weight=-3.0,\n",
    "              delay=2.0,\n",
    "              dynamics_params='InhToInh.json',\n",
    "              model_template='static_synapse')\n",
    "\n",
    "## SST I-to-I\n",
    "net.add_edges(source={'pop_name': 'SST'}, target={'pop_name': 'PV'},\n",
    "              connection_rule=calc_synapses,\n",
    "              connection_params={'probability': .0},\n",
    "              syn_weight=-3.0,\n",
    "              delay=2.0,\n",
    "              dynamics_params='InhToInh.json',\n",
    "              model_template='static_synapse')\n",
    "\n",
    "net.add_edges(source={'pop_name': 'SST'}, target={'pop_name': 'SST'},\n",
    "              connection_rule=calc_synapses,\n",
    "              connection_params={'probability': .0},\n",
    "              syn_weight=-3.0,\n",
    "              delay=2.0,\n",
    "              dynamics_params='InhToInh.json',\n",
    "              model_template='static_synapse')\n",
    "\n",
    "net.add_edges(source={'pop_name': 'SST'}, target={'pop_name': 'VIP'},\n",
    "              connection_rule=calc_synapses,\n",
    "              connection_params={'probability': .286},\n",
    "              syn_weight=-3.0,\n",
    "              delay=2.0,\n",
    "              dynamics_params='InhToInh.json',\n",
    "              model_template='static_synapse')\n",
    "\n",
    "## VIP I-to-I\n",
    "net.add_edges(source={'pop_name': 'VIP'}, target={'pop_name': 'PV'},\n",
    "              connection_rule=calc_synapses,\n",
    "              connection_params={'probability': .022},\n",
    "              syn_weight=-3.0,\n",
    "              delay=2.0,\n",
    "              dynamics_params='InhToInh.json',\n",
    "              model_template='static_synapse')\n",
    "\n",
    "net.add_edges(source={'pop_name': 'VIP'}, target={'pop_name': 'SST'},\n",
    "              connection_rule=calc_synapses,\n",
    "              connection_params={'probability': .172},\n",
    "              syn_weight=-3.0,\n",
    "              delay=2.0,\n",
    "              dynamics_params='InhToInh.json',\n",
    "              model_template='static_synapse')\n",
    "\n",
    "net.add_edges(source={'pop_name': 'VIP'}, target={'pop_name': 'VIP'},\n",
    "              connection_rule=calc_synapses,\n",
    "              connection_params={'probability': .023},\n",
    "              syn_weight=-3.0,\n",
    "              delay=2.0,\n",
    "              dynamics_params='InhToInh.json',\n",
    "              model_template='static_synapse')\n",
    "\n",
    "\n",
    "### Generating I-to-E connections\n",
    "net.add_edges(source={'pop_name': 'PV'}, target={'pop_name': 'Exc'},\n",
    "              connection_rule=calc_synapses,\n",
    "              connection_params={'probability': .200},\n",
    "              syn_weight=-3.0,\n",
    "              delay=2.0,\n",
    "              dynamics_params='InhToExc.json',\n",
    "              model_template='static_synapse')\n",
    "\n",
    "net.add_edges(source={'pop_name': 'SST'}, target={'pop_name': 'Exc'},\n",
    "              connection_rule=calc_synapses,\n",
    "              connection_params={'probability': .222},\n",
    "              syn_weight=-3.0,\n",
    "              delay=2.0,\n",
    "              dynamics_params='InhToExc.json',\n",
    "              model_template='static_synapse')\n",
    "\n",
    "net.add_edges(source={'pop_name': 'VIP'}, target={'pop_name': 'Exc'},\n",
    "              connection_rule=calc_synapses,\n",
    "              connection_params={'probability': .0},\n",
    "              syn_weight=-3.0,\n",
    "              delay=2.0,\n",
    "              dynamics_params='InhToExc.json',\n",
    "              model_template='static_synapse')\n",
    "\n",
    "### Generating E-to-I connections\n",
    "net.add_edges(source={'pop_name': 'Exc'}, target={'pop_name': 'PV'},\n",
    "              connection_rule=calc_synapses,\n",
    "              connection_params={'probability': .114},\n",
    "              syn_weight=3.0,\n",
    "              delay=2.0,\n",
    "              dynamics_params='ExcToInh.json',\n",
    "              model_template='static_synapse')\n",
    "\n",
    "net.add_edges(source={'pop_name': 'Exc'}, target={'pop_name': 'SST'},\n",
    "              connection_rule=calc_synapses,\n",
    "              connection_params={'probability': .036},\n",
    "              syn_weight=3.0,\n",
    "              delay=2.0,\n",
    "              dynamics_params='ExcToInh.json',\n",
    "              model_template='static_synapse')\n",
    "\n",
    "net.add_edges(source={'pop_name': 'Exc'}, target={'pop_name': 'VIP'},\n",
    "              connection_rule=calc_synapses,\n",
    "              connection_params={'probability': .038},\n",
    "              syn_weight=3.0,\n",
    "              delay=2.0,\n",
    "              dynamics_params='ExcToInh.json',\n",
    "              model_template='static_synapse')\n",
    "\n",
    "\n",
    "\n",
    "print('Edges established.')\n",
    "print(strftime(\"%Y-%m-%d %H:%M:%S\", gmtime())) #timestamp"
   ]
  },
  {
   "cell_type": "code",
   "execution_count": 3,
   "metadata": {},
   "outputs": [],
   "source": [
    "# Build and save network \"V1\"\n",
    "net.build()\n",
    "net.save_nodes(output_dir='simulation/network')\n",
    "net.save_edges(output_dir='simulation/network')"
   ]
  },
  {
   "cell_type": "markdown",
   "metadata": {
    "collapsed": true
   },
   "source": [
    "### Building external network\n",
    "\n",
    "Next we want to create an external network of \"virtual cells\" with spike-trains that will synapse onto our V1 cells and drive activity. We will call this external network \"LGN\" and contains 500 excitatory cells."
   ]
  },
  {
   "cell_type": "code",
   "execution_count": 3,
   "metadata": {},
   "outputs": [],
   "source": [
    "# Build LGN with positions that overlap V1 network to establish retinotopy\n",
    "nLGN = 1000\n",
    "\n",
    "lgn = NetworkBuilder('LGN')\n",
    "lgn.add_nodes(N=nLGN, pop_name='tON', potential='exc', model_type='virtual', \\\n",
    "              positions=positions_cuboid(N=nLGN,center=[0, 0, 0], height = 0, xside_length=100, yside_length=100, min_dist=1),)\n"
   ]
  },
  {
   "cell_type": "markdown",
   "metadata": {},
   "source": [
    "We will use a special function for setting the number of synapses between the LGN --> V1 cells. The select_source_cells function will be called during the build process."
   ]
  },
  {
   "cell_type": "code",
   "execution_count": 4,
   "metadata": {},
   "outputs": [
    {
     "name": "stdout",
     "output_type": "stream",
     "text": [
      "LGN edges established.\n",
      "2022-01-20 08:40:39\n"
     ]
    }
   ],
   "source": [
    "import numpy as np\n",
    "\n",
    "# Function to retinotopically assign LGN synaptic targets\n",
    "def select_sources_retinotopically(source,target,d_max):\n",
    "    # Determine distance between source and target\n",
    "    d = np.linalg.norm(np.array(source['positions']) - np.array(target['positions']))\n",
    "\n",
    "    # Calculate fraction of max allowable distance\n",
    "    d_ratio = d / d_max\n",
    "    \n",
    "    # Calculate likelihood of a synapse\n",
    "    syns = int(np.random.rand(1) > d_ratio)*5\n",
    "    return syns\n",
    "\n",
    "lgn.add_edges(source=lgn.nodes(), target=net.nodes(pop_name='Exc'),\n",
    "              connection_rule= select_sources_retinotopically,\n",
    "              connection_params={'d_max': 10},\n",
    "              syn_weight=15.0,\n",
    "              delay=2.0,\n",
    "              dynamics_params='ExcToExc.json',\n",
    "              model_template='static_synapse')\n",
    "\n",
    "lgn.add_edges(source=lgn.nodes(), target=net.nodes(pop_name='PV'),\n",
    "              connection_rule= select_sources_retinotopically,\n",
    "              connection_params={'d_max': 10},\n",
    "              syn_weight=5.0,\n",
    "              delay=2.0,\n",
    "              dynamics_params='ExcToInh.json',\n",
    "              model_template='static_synapse')\n",
    "\n",
    "lgn.add_edges(source=lgn.nodes(),  target=net.nodes(pop_name='SST'),\n",
    "              connection_rule= select_sources_retinotopically,\n",
    "              connection_params={'d_max': 10},\n",
    "              syn_weight= 5.0,\n",
    "              delay=2.0,\n",
    "              dynamics_params='ExcToInh.json',\n",
    "              model_template='static_synapse')\n",
    "\n",
    "lgn.add_edges(source=lgn.nodes(),  target=net.nodes(pop_name='VIP'),\n",
    "              connection_rule= select_sources_retinotopically,\n",
    "              connection_params={'d_max': 10},\n",
    "              syn_weight= 5.0,\n",
    "              delay=2.0,\n",
    "              dynamics_params='ExcToInh.json',\n",
    "              model_template='static_synapse')\n",
    "\n",
    "print('LGN edges established.')\n",
    "print(strftime(\"%Y-%m-%d %H:%M:%S\", gmtime())) #timestamp"
   ]
  },
  {
   "cell_type": "code",
   "execution_count": 10,
   "metadata": {},
   "outputs": [
    {
     "name": "stdout",
     "output_type": "stream",
     "text": [
      "Number of spikes: 41234\n"
     ]
    }
   ],
   "source": [
    "# Set up LGN firing\n",
    "from bmtk.utils.reports.spike_trains import PoissonSpikeGenerator\n",
    "\n",
    "psg = PoissonSpikeGenerator(population='LGN')\n",
    "psg.add(node_ids=range(nLGN),  # Have nodes match LGN\n",
    "        firing_rate=15.0,    # 15 Hz, verify later\n",
    "        times=(0.25, 1.0))    # Firing starts at 0 s up to 3 s\n",
    "psg.add(node_ids=range(nLGN),  # Have nodes match LGN\n",
    "        firing_rate=22.0,    # 15 Hz, verify later\n",
    "        times=(1.01, 1.75))    # Firing starts at 0 s up to 3 s\n",
    "psg.add(node_ids=range(nLGN),  # Have nodes match LGN\n",
    "        firing_rate=5.0,    # 15 Hz, verify later\n",
    "        times=(1.76, 2.25))    # Firing starts at 0 s up to 3 s\n",
    "psg.add(node_ids=range(nLGN),  # Have nodes match LGN\n",
    "        firing_rate=15.0,    # 15 Hz, verify later\n",
    "        times=(2.26, 3))    # Firing starts at 0 s up to 3 s\n",
    "psg.to_sonata('simulation/inputs/lgn_spikes.h5')\n",
    "\n",
    "# Validate total spike number: Spikes = neurons * rate * time\n",
    "print('Number of spikes: {}'.format(psg.n_spikes()))\n"
   ]
  },
  {
   "cell_type": "code",
   "execution_count": 6,
   "metadata": {},
   "outputs": [],
   "source": [
    "lgn.build()\n",
    "lgn.save_nodes(output_dir='simulation/network')\n",
    "lgn.save_edges(output_dir='simulation/network')"
   ]
  },
  {
   "cell_type": "markdown",
   "metadata": {},
   "source": [
    "## Setting up PointNet Environment\n"
   ]
  },
  {
   "cell_type": "code",
   "execution_count": 8,
   "metadata": {},
   "outputs": [
    {
     "name": "stdout",
     "output_type": "stream",
     "text": [
      "Network built.\n",
      "2022-01-20 08:33:35\n"
     ]
    }
   ],
   "source": [
    "from bmtk.utils.sim_setup import build_env_pointnet\n",
    "\n",
    "build_env_pointnet(base_dir='simulation',      \n",
    "                   network_dir='simulation/network',\n",
    "                   tstop=3000.0, \n",
    "                   dt=0.01,\n",
    "                   spikes_inputs=[('LGN','simulation/inputs/lgn_spikes.h5')],\n",
    "                   include_examples=True,         # Copies components files\n",
    "                  )\n",
    "\n",
    "\n",
    "print('Network built.')\n",
    "print(strftime(\"%Y-%m-%d %H:%M:%S\", gmtime())) #timestamp"
   ]
  },
  {
   "cell_type": "markdown",
   "metadata": {},
   "source": [
    "The network files are written to **circuit_config.json** and the simulation parameters are set in **simulation_config**. The simulation time is set to run for 3000.0 ms (tstop). We also specify a membrane-report to record V_m property of 4 cells (gids 0, 80, 100, 300 - one from each cell-type). In general, all the parameters needed to setup and start a simulation are found in the config files, and adjusting network/simulation conditions can be done by editing these json files in a text editor."
   ]
  },
  {
   "cell_type": "markdown",
   "metadata": {},
   "source": [
    "#### Additional validation scripts"
   ]
  },
  {
   "cell_type": "code",
   "execution_count": 5,
   "metadata": {},
   "outputs": [
    {
     "name": "stdout",
     "output_type": "stream",
     "text": [
      "cell 0: pop_name: Exc, positions: [134 139   0]\n",
      "cell 1: pop_name: Exc, positions: [123   9   0]\n",
      "cell 2: pop_name: Exc, positions: [ 10 144   0]\n",
      "cell 3: pop_name: Exc, positions: [109  32   0]\n",
      "cell 4: pop_name: Exc, positions: [69 28  0]\n"
     ]
    }
   ],
   "source": [
    "# Script to check various node values are populating as expected\n",
    "v1_nodes = list(net.nodes())\n",
    "n0 = v1_nodes[0]\n",
    "n1 = v1_nodes[1]\n",
    "n2 = v1_nodes[2]\n",
    "n3 = v1_nodes[3]\n",
    "n4 = v1_nodes[4]\n",
    "print('cell 0: pop_name: {}, positions: {}'.format(n0['pop_name'], n0['positions']))\n",
    "print('cell 1: pop_name: {}, positions: {}'.format(n1['pop_name'], n1['positions']))\n",
    "print('cell 2: pop_name: {}, positions: {}'.format(n0['pop_name'], n2['positions']))\n",
    "print('cell 3: pop_name: {}, positions: {}'.format(n1['pop_name'], n3['positions']))\n",
    "print('cell 4: pop_name: {}, positions: {}'.format(n0['pop_name'], n4['positions']))\n",
    "\n"
   ]
  },
  {
   "cell_type": "code",
   "execution_count": 28,
   "metadata": {},
   "outputs": [
    {
     "name": "stdout",
     "output_type": "stream",
     "text": [
      "[34 78  0]\n",
      "[30 88  0]\n",
      "[34 58  0]\n",
      "[57  5  0]\n",
      "[23 18  0]\n",
      "[100  83   0]\n",
      "[77 46  0]\n",
      "[77 82  0]\n",
      "[19 74  0]\n",
      "[51 23  0]\n"
     ]
    }
   ],
   "source": [
    "# Check that LGN positions are being well distributed\n",
    "lgn_nodes = list(lgn.nodes())\n",
    "for i in range(10):\n",
    "    print(format(lgn_nodes[i]['positions']))"
   ]
  },
  {
   "cell_type": "code",
   "execution_count": 33,
   "metadata": {},
   "outputs": [
    {
     "name": "stdout",
     "output_type": "stream",
     "text": [
      "7.0710678118654755\n"
     ]
    }
   ],
   "source": [
    "# Verify distance calculation working as intended\n",
    "import numpy as np\n",
    "x1 = np.array([50, 50])\n",
    "x2 = np.array([55, 55])\n",
    "print(np.linalg.norm(x1 - x2))\n",
    "\n",
    "# r = np.linalg.norm(np.array(source['positions']) - np.array(target['positions']))\n"
   ]
  },
  {
   "cell_type": "code",
   "execution_count": null,
   "metadata": {},
   "outputs": [],
   "source": []
  }
 ],
 "metadata": {
  "kernelspec": {
   "display_name": "Python 3",
   "language": "python",
   "name": "python3"
  },
  "language_info": {
   "codemirror_mode": {
    "name": "ipython",
    "version": 3
   },
   "file_extension": ".py",
   "mimetype": "text/x-python",
   "name": "python",
   "nbconvert_exporter": "python",
   "pygments_lexer": "ipython3",
   "version": "3.6.9"
  }
 },
 "nbformat": 4,
 "nbformat_minor": 2
}
